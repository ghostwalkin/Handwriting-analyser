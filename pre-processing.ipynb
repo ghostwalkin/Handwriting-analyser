{
  "cells": [
    {
      "cell_type": "markdown",
      "metadata": {
        "id": "view-in-github",
        "colab_type": "text"
      },
      "source": [
        "<a href=\"https://colab.research.google.com/github/ghostwalkin/Handwriting-analyser/blob/main/pre-processing.ipynb\" target=\"_parent\"><img src=\"https://colab.research.google.com/assets/colab-badge.svg\" alt=\"Open In Colab\"/></a>"
      ]
    },
    {
      "cell_type": "code",
      "execution_count": 1,
      "metadata": {
        "id": "E7zsgc3SmwX4",
        "colab": {
          "base_uri": "https://localhost:8080/"
        },
        "outputId": "65bcbddc-c84b-4f3c-e3d0-2c57f713bd77"
      },
      "outputs": [
        {
          "output_type": "stream",
          "name": "stdout",
          "text": [
            "Mounted at /content/gdrive\n"
          ]
        }
      ],
      "source": [
        "import os\n",
        "from google.colab import drive\n",
        "drive.mount('/content/gdrive')"
      ]
    },
    {
      "cell_type": "code",
      "execution_count": 2,
      "metadata": {
        "id": "wfghiuZ6qWw_"
      },
      "outputs": [],
      "source": [
        "os.chdir('/content/gdrive/MyDrive/Img2Txt')"
      ]
    },
    {
      "cell_type": "code",
      "execution_count": 3,
      "metadata": {
        "colab": {
          "base_uri": "https://localhost:8080/"
        },
        "id": "38tMFUqAp9xT",
        "outputId": "de296b75-9bce-4a54-ad9a-7966d870f174"
      },
      "outputs": [
        {
          "output_type": "stream",
          "name": "stdout",
          "text": [
            "/content/gdrive/MyDrive/Img2Txt\n"
          ]
        }
      ],
      "source": [
        "!pwd"
      ]
    },
    {
      "cell_type": "code",
      "execution_count": null,
      "metadata": {
        "id": "wEzEAMzqqlUI"
      },
      "outputs": [],
      "source": [
        "#!unzip -q /content/gdrive/MyDrive/Img2Txt/parser_text.zip  #renamed the files for convinence sake"
      ]
    },
    {
      "cell_type": "code",
      "execution_count": null,
      "metadata": {
        "id": "2NpeD-o0zYdq"
      },
      "outputs": [],
      "source": [
        "#!unzip -q /content/gdrive/MyDrive/Img2Txt/words_img_dir.zip -x '__MACOSX/*' #renamed the files for convinence sake"
      ]
    },
    {
      "cell_type": "code",
      "execution_count": 4,
      "metadata": {
        "colab": {
          "base_uri": "https://localhost:8080/"
        },
        "id": "iprNvd_3rW9t",
        "outputId": "525843a2-efd6-40e4-bece-497e4a982cc2"
      },
      "outputs": [
        {
          "output_type": "execute_result",
          "data": {
            "text/plain": [
              "['a01-000u-00-00 ok 154 408 768 27 51 AT A',\n",
              " 'a01-000u-00-01 ok 154 507 766 213 48 NN MOVE',\n",
              " 'a01-000u-00-02 ok 154 796 764 70 50 TO to',\n",
              " 'a01-000u-00-03 ok 154 919 757 166 78 VB stop',\n",
              " 'a01-000u-00-04 ok 154 1185 754 126 61 NPT Mr.',\n",
              " 'a01-000u-00-05 ok 154 1438 746 382 73 NP Gaitskell',\n",
              " 'a01-000u-00-06 ok 154 1896 757 173 72 IN from',\n",
              " 'a01-000u-01-00 ok 156 395 932 441 100 VBG nominating',\n",
              " 'a01-000u-01-01 ok 156 901 958 147 79 DTI any',\n",
              " 'a01-000u-01-02 ok 156 1112 958 208 42 AP more']"
            ]
          },
          "metadata": {},
          "execution_count": 4
        }
      ],
      "source": [
        "f=open('/content/gdrive/MyDrive/Img2Txt/parser.txt')\n",
        "d=f.read()\n",
        "f.close()\n",
        "data=d.split('\\n')\n",
        "data[:10]"
      ]
    },
    {
      "cell_type": "code",
      "source": [
        "import cv2 as cv\n",
        "import matplotlib.pyplot as plt\n",
        "import numpy as np\n",
        "import csv\n",
        "import pandas as pd"
      ],
      "metadata": {
        "id": "hcdPUCIjDCVr"
      },
      "execution_count": 5,
      "outputs": []
    },
    {
      "cell_type": "code",
      "source": [
        "#@title resize image function\n",
        "\n",
        "def resize_image(image,desired_ratio):\n",
        "  try:\n",
        "    height,width=image.shape[:2]\n",
        "    aspect_ratio=width/height\n",
        "\n",
        "    desired_width,desired_height=desired_ratio\n",
        "    target=desired_width/desired_height\n",
        "#conditions to avoid streching images\n",
        "    if aspect_ratio > target:\n",
        "      new_width = desired_width\n",
        "      new_height = int(new_width / aspect_ratio)\n",
        "    else:\n",
        "      new_height = desired_height\n",
        "      new_width = int(new_height * aspect_ratio)\n",
        "    resized_image = cv.resize(image, (new_width, new_height))\n",
        "\n",
        "    padding_width = desired_width - new_width\n",
        "    padding_height = desired_height - new_height\n",
        "\n",
        "    top = padding_height // 2\n",
        "    bottom = padding_height - top\n",
        "    left = padding_width // 2\n",
        "    right = padding_width - left\n",
        "\n",
        "    padded_image = cv.copyMakeBorder(resized_image, top, bottom, left, right, cv.BORDER_CONSTANT, value=(255, 255, 255))\n",
        "\n",
        "    return padded_image\n",
        "  except Exception as e:\n",
        "    print(f\"Error resizing image '{image}': {e}\")\n",
        "    return None\n",
        "\n",
        "\n",
        "\n"
      ],
      "metadata": {
        "id": "Xjf8tlritmpO"
      },
      "execution_count": 6,
      "outputs": []
    },
    {
      "cell_type": "code",
      "source": [
        "#@title New folder of resized images\n",
        "\n",
        "output_dir='/content/gdrive/MyDrive/Img2Txt/resized_img'\n",
        "os.makedirs(output_dir, exist_ok=True)\n",
        "\n",
        "for d in data:\n",
        "  ds=d.split(' ')\n",
        "  filename=ds[0]+'.png'\n",
        "  filestatus=ds[1]\n",
        "  label=ds[-1]\n",
        "  fp= ds[0].split('-')\n",
        "\n",
        "  filepath='words/{}/{}-{}/{}.png'.format(fp[0],fp[0],fp[1],ds[0])\n",
        "\n",
        "  row = {'filename': filename, 'filestatus': filestatus, 'label': label, 'filepath': filepath}\n",
        "\n",
        "\n",
        "  if filestatus=='ok':\n",
        "    if os.path.isfile(filepath):\n",
        "      image=cv.imread(filepath)\n",
        "      desired_ratio=(128,32)\n",
        "      resized_image=resize_image(image,desired_ratio)\n",
        "\n",
        "      if resized_image is not None:\n",
        "                output_path = os.path.join(output_dir, filename)\n",
        "                cv.imwrite(output_path, resized_image)\n",
        "                print(f\"Processing file: {filepath}\")\n",
        "    else:\n",
        "      print(f\"File does not exist: {filepath}\")\n",
        "\n"
      ],
      "metadata": {
        "id": "J40j1v_TLfRa"
      },
      "execution_count": null,
      "outputs": []
    }
  ],
  "metadata": {
    "colab": {
      "provenance": [],
      "gpuType": "T4",
      "authorship_tag": "ABX9TyNNCTJiIPjtk+YMVNvmQBRG",
      "include_colab_link": true
    },
    "kernelspec": {
      "display_name": "Python 3",
      "name": "python3"
    },
    "language_info": {
      "name": "python"
    },
    "accelerator": "GPU"
  },
  "nbformat": 4,
  "nbformat_minor": 0
}